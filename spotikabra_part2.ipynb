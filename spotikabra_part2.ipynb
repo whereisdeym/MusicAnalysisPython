{
 "cells": [
  {
   "cell_type": "code",
   "execution_count": 1,
   "metadata": {},
   "outputs": [
    {
     "name": "stdout",
     "output_type": "stream",
     "text": [
      "Colonnes disponibles : Index(['Titre de la chanson', 'Nom de l'artiste', 'Genre musical',\n",
      "       'Année de sortie', 'Nombre d'écoutes'],\n",
      "      dtype='object')\n",
      "Aperçu des données :\n",
      "         Genre musical  Année de sortie  Nombre d'écoutes  Genre_encoded\n",
      "0      adult standards             2004                71              2\n",
      "1           album rock             2000                39              5\n",
      "2  alternative hip hop             2001                69              8\n",
      "3    alternative metal             2007                76              9\n",
      "4         classic rock             2002                59             61\n",
      "\n",
      "Taille des ensembles :\n",
      "Entraînement : 1595 exemples, Test : 399 exemples\n"
     ]
    }
   ],
   "source": [
    "import pandas as pd\n",
    "from sklearn.model_selection import train_test_split\n",
    "from sklearn.linear_model import LinearRegression\n",
    "from sklearn.metrics import r2_score, mean_absolute_error\n",
    "from sklearn.preprocessing import LabelEncoder\n",
    "\n",
    "\n",
    "file_path = \"data1/cleaned_spotify_data.csv\"\n",
    "data = pd.read_csv(file_path)\n",
    "\n",
    "# Vérification des colonnes nécessaires\n",
    "print(\"Colonnes disponibles :\", data.columns)\n",
    "\n",
    "# Sélection des colonnes pertinentes\n",
    "data = data[['Genre musical', 'Année de sortie', 'Nombre d\\'écoutes']]\n",
    "\n",
    "# Encodage des variables catégorielles\n",
    "encoder = LabelEncoder()\n",
    "data['Genre_encoded'] = encoder.fit_transform(data['Genre musical'])\n",
    "\n",
    "X = data[['Genre_encoded', 'Année de sortie']]\n",
    "y = data['Nombre d\\'écoutes']\n",
    "\n",
    "print(\"Aperçu des données :\")\n",
    "print(data.head())\n",
    "\n",
    "# Division des données en ensembles d'entraînement et de test\n",
    "X_train, X_test, y_train, y_test = train_test_split(X, y, test_size=0.2, random_state=42)\n",
    "\n",
    "print(\"\\nTaille des ensembles :\")\n",
    "print(f\"Entraînement : {len(X_train)} exemples, Test : {len(X_test)} exemples\")"
   ]
  },
  {
   "cell_type": "code",
   "execution_count": 4,
   "metadata": {},
   "outputs": [
    {
     "name": "stdout",
     "output_type": "stream",
     "text": [
      "Colonnes disponibles : Index(['Titre de la chanson', 'Nom de l'artiste', 'Genre musical',\n",
      "       'Année de sortie', 'Nombre d'écoutes'],\n",
      "      dtype='object')\n",
      "Nombre d'exemples dans l'ensemble d'entraînement : 1595\n",
      "Nombre d'exemples dans l'ensemble de test : 399\n"
     ]
    }
   ],
   "source": [
    "from sklearn.model_selection import train_test_split\n",
    "\n",
    "file_path = \"data1/cleaned_spotify_data.csv\"\n",
    "data = pd.read_csv(file_path)\n",
    "\n",
    "print(\"Colonnes disponibles :\", data.columns)\n",
    "\n",
    "# Sélection des colonnes pertinentes\n",
    "data = data[['Genre musical', 'Année de sortie', 'Nombre d\\'écoutes']]\n",
    "\n",
    "# Encodage des variables catégoriques (si ce n'est pas déjà fait)\n",
    "from sklearn.preprocessing import LabelEncoder\n",
    "encoder = LabelEncoder()\n",
    "data['Genre_encoded'] = encoder.fit_transform(data['Genre musical'])\n",
    "\n",
    "X = data[['Genre_encoded', 'Année de sortie']]\n",
    "y = data['Nombre d\\'écoutes']\n",
    "\n",
    "# Division des données en ensembles d'entraînement et de test\n",
    "X_train, X_test, y_train, y_test = train_test_split(X, y, test_size=0.2, random_state=42)\n",
    "\n",
    "print(f\"Nombre d'exemples dans l'ensemble d'entraînement : {len(X_train)}\")\n",
    "print(f\"Nombre d'exemples dans l'ensemble de test : {len(X_test)}\")"
   ]
  },
  {
   "cell_type": "code",
   "execution_count": 2,
   "metadata": {},
   "outputs": [
    {
     "name": "stdout",
     "output_type": "stream",
     "text": [
      "\n",
      "Modèle entraîné avec succès.\n"
     ]
    }
   ],
   "source": [
    "# Entraînement du modèle\n",
    "model = LinearRegression()\n",
    "model.fit(X_train, y_train)\n",
    "\n",
    "print(\"\\nModèle entraîné avec succès.\")"
   ]
  },
  {
   "cell_type": "code",
   "execution_count": 3,
   "metadata": {},
   "outputs": [
    {
     "name": "stdout",
     "output_type": "stream",
     "text": [
      "\n",
      "Performances du modèle :\n",
      "Coefficient de détermination (R²) : 0.03\n",
      "Erreur absolue moyenne (MAE) : 11.57\n"
     ]
    }
   ],
   "source": [
    "# Prédiction sur l'ensemble de test\n",
    "y_pred = model.predict(X_test)\n",
    "\n",
    "# Calcul des métriques\n",
    "r2 = r2_score(y_test, y_pred)\n",
    "mae = mean_absolute_error(y_test, y_pred)\n",
    "\n",
    "print(\"\\nPerformances du modèle :\")\n",
    "print(f\"Coefficient de détermination (R²) : {r2:.2f}\")\n",
    "print(f\"Erreur absolue moyenne (MAE) : {mae:.2f}\")"
   ]
  }
 ],
 "metadata": {
  "kernelspec": {
   "display_name": "Python 3",
   "language": "python",
   "name": "python3"
  },
  "language_info": {
   "codemirror_mode": {
    "name": "ipython",
    "version": 3
   },
   "file_extension": ".py",
   "mimetype": "text/x-python",
   "name": "python",
   "nbconvert_exporter": "python",
   "pygments_lexer": "ipython3",
   "version": "3.12.0"
  }
 },
 "nbformat": 4,
 "nbformat_minor": 2
}
